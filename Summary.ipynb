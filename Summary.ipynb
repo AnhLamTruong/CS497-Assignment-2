{
  "cells": [
    {
      "cell_type": "markdown",
      "metadata": {},
      "source": [
        " ## Majority Element \n",
        " I used the nested loop to compare the elements oin the array."
      ]
    },
    {
      "cell_type": "code",
      "execution_count": 1,
      "metadata": {},
      "outputs": [
        {
          "name": "stdout",
          "output_type": "stream",
          "text": [
            "1\n"
          ]
        }
      ],
      "source": [
        "from typing import List\n",
        "\n",
        "class Solution:\n",
        "    def majorityElement(self, nums: List[int]) -> int:\n",
        "      maxCount = 0\n",
        "      index = -1  # sentinels\n",
        "      for i in range(len(nums)):\n",
        "  \n",
        "          count = 0\n",
        "          for j in range(len(nums)):\n",
        "  \n",
        "              if(nums[i] == nums[j]):\n",
        "                  count += 1\n",
        "  \n",
        "          # update maxCount if count of\n",
        "          # current element is greater\n",
        "          if(count > maxCount):\n",
        "  \n",
        "              maxCount = count\n",
        "              index = i\n",
        "  \n",
        "      # if maxCount is greater than n/2\n",
        "      # return the corresponding element\n",
        "      if (maxCount > len(nums)//2):\n",
        "          return nums[index]\n",
        "  \n",
        "      else:\n",
        "          print(\"No Majority Element\")\n",
        "          \n",
        "arr = [1, 1, 2, 1, 3, 5, 1]\n",
        "n = len(arr)\n",
        "# Function calling\n",
        "print(Solution.majorityElement(Solution,arr))"
      ]
    },
    {
      "cell_type": "markdown",
      "metadata": {},
      "source": [
        "## Kth Largest element in an Array\n",
        "I just simply use the sort method to sort an array, and find the largest element based on the last element of the array."
      ]
    },
    {
      "cell_type": "code",
      "execution_count": 2,
      "metadata": {},
      "outputs": [
        {
          "name": "stdout",
          "output_type": "stream",
          "text": [
            "5\n"
          ]
        }
      ],
      "source": [
        "class Solution(object):\n",
        "    def findKthLargest(self, nums, k):\n",
        "        nums.sort();\n",
        "        return nums[len(nums)-k]\n",
        "      \n",
        "#Driver Code\n",
        "arr=[3,2,1,5,6,4]\n",
        "k=2\n",
        "\n",
        "print(Solution.findKthLargest(Solution,arr,k))"
      ]
    },
    {
      "cell_type": "markdown",
      "metadata": {},
      "source": [
        "## Maximum Gap\n",
        "I use to bucket to store the value "
      ]
    },
    {
      "cell_type": "code",
      "execution_count": null,
      "metadata": {},
      "outputs": [],
      "source": []
    }
  ],
  "metadata": {
    "kernelspec": {
      "display_name": "Python 3.10.7 64-bit",
      "language": "python",
      "name": "python3"
    },
    "language_info": {
      "codemirror_mode": {
        "name": "ipython",
        "version": 3
      },
      "file_extension": ".py",
      "mimetype": "text/x-python",
      "name": "python",
      "nbconvert_exporter": "python",
      "pygments_lexer": "ipython3",
      "version": "3.10.7"
    },
    "orig_nbformat": 4,
    "vscode": {
      "interpreter": {
        "hash": "6bba7ad6fc9afbb17a33197c0438130850015aba75982ac77e342f4df6c21110"
      }
    }
  },
  "nbformat": 4,
  "nbformat_minor": 2
}
