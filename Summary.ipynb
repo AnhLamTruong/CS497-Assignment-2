{
 "cells": [
  {
   "cell_type": "markdown",
   "metadata": {},
   "source": [
    " ## Majority Element \n",
    " I used the nested loop to compare the elements oin the array."
   ]
  },
  {
   "cell_type": "code",
   "execution_count": 1,
   "metadata": {},
   "outputs": [
    {
     "name": "stdout",
     "output_type": "stream",
     "text": [
      "1\n"
     ]
    }
   ],
   "source": [
    "from typing import List\n",
    "\n",
    "class Solution:\n",
    "    def majorityElement(self, nums: List[int]) -> int:\n",
    "      maxCount = 0\n",
    "      index = -1  # sentinels\n",
    "      for i in range(len(nums)):\n",
    "  \n",
    "          count = 0\n",
    "          for j in range(len(nums)):\n",
    "  \n",
    "              if(nums[i] == nums[j]):\n",
    "                  count += 1\n",
    "  \n",
    "          # update maxCount if count of\n",
    "          # current element is greater\n",
    "          if(count > maxCount):\n",
    "  \n",
    "              maxCount = count\n",
    "              index = i\n",
    "  \n",
    "      # if maxCount is greater than n/2\n",
    "      # return the corresponding element\n",
    "      if (maxCount > len(nums)//2):\n",
    "          return nums[index]\n",
    "  \n",
    "      else:\n",
    "          print(\"No Majority Element\")\n",
    "          \n",
    "arr = [1, 1, 2, 1, 3, 5, 1]\n",
    "n = len(arr)\n",
    "# Function calling\n",
    "print(Solution.majorityElement(Solution,arr))"
   ]
  },
  {
   "cell_type": "markdown",
   "metadata": {},
   "source": [
    "## Kth Largest element in an Array\n",
    "I just simply use the sort method to sort an array, and find the largest element based on the last element of the array."
   ]
  },
  {
   "cell_type": "code",
   "execution_count": 2,
   "metadata": {},
   "outputs": [
    {
     "name": "stdout",
     "output_type": "stream",
     "text": [
      "5\n"
     ]
    }
   ],
   "source": [
    "class Solution(object):\n",
    "    def findKthLargest(self, nums, k):\n",
    "        nums.sort();\n",
    "        return nums[len(nums)-k]\n",
    "      \n",
    "#Driver Code\n",
    "arr=[3,2,1,5,6,4]\n",
    "k=2\n",
    "\n",
    "print(Solution.findKthLargest(Solution,arr,k))"
   ]
  },
  {
   "cell_type": "markdown",
   "metadata": {},
   "source": [
    "## Maximum Gap\n",
    "I use to bucket to store the value "
   ]
  },
  {
   "cell_type": "code",
   "execution_count": 5,
   "metadata": {},
   "outputs": [
    {
     "name": "stdout",
     "output_type": "stream",
     "text": [
      "3\n",
      "0\n"
     ]
    }
   ],
   "source": [
    "from typing import List\n",
    "\n",
    "class Solution:\n",
    "    def maximumGap(self, nums: List[int]) -> int:\n",
    "      if( len(nums) <2):\n",
    "        return 0;\n",
    "      hi, lo, ans = max(nums), min(nums),0\n",
    "      bsize=(hi - lo)//(len(nums)-1) or 1 \n",
    "      buckets=[[] for _ in range(((hi-lo)//bsize)+1)];\n",
    "      for n in nums:\n",
    "        buckets[(n-lo)//bsize].append(n)\n",
    "      currhi=0\n",
    "      for b in buckets:\n",
    "        if not len(b):continue\n",
    "        prevhi, currlo=currhi or b[0], b[0]\n",
    "        for n in b:\n",
    "          currhi,currlo=max(currhi,n), min(currlo,n)\n",
    "        ans = max(ans,currlo-prevhi)\n",
    "      return ans\n",
    "    \n",
    "nums = [3,6,9,1]\n",
    "print(Solution.maximumGap(Solution, nums))\n",
    "nums1=[10]\n",
    "print(Solution.maximumGap(Solution,nums1))"
   ]
  },
  {
   "cell_type": "markdown",
   "metadata": {},
   "source": [
    "## Remove duplicate letters\n",
    "I converted the array to the List format and sorted the List alphabet"
   ]
  },
  {
   "cell_type": "code",
   "execution_count": 6,
   "metadata": {},
   "outputs": [
    {
     "name": "stdout",
     "output_type": "stream",
     "text": [
      "adefijnorsuvw\n"
     ]
    }
   ],
   "source": [
    "class Solution(object):\n",
    "    \n",
    "    #Main funtion\n",
    "    def removeDuplicateLetters(self, s):\n",
    "      List=self.stringToList(self, s)\n",
    "      List.sort()\n",
    "      return self.removeDupsListSorted(self,List)\n",
    "    \n",
    "    #convert string to list function\n",
    "    def stringToList(self,str):\n",
    "      temp=[]\n",
    "      for x in str:\n",
    "        temp.append(x)\n",
    "      return temp\n",
    "    \n",
    "    #convert List to String\n",
    "    def ListToString(self,List):\n",
    "      return ''.join(List)\n",
    "    \n",
    "    #Remove duplicates from the Lists\n",
    "    def removeDupsListSorted(self,List):\n",
    "      res_index=1\n",
    "      ip_index=1\n",
    "      \n",
    "      #Remove duplicates\n",
    "      #res_index=3\n",
    "      #ip_index=4\n",
    "      #[abbccdef]\n",
    "      while ip_index!=len(List):\n",
    "        if List[ip_index]!=List[ip_index-1]:\n",
    "          List[res_index]=List[ip_index]\n",
    "          res_index+=1\n",
    "        ip_index+=1\n",
    "      \n",
    "      #After removing convert the List to String from 0-res_index\n",
    "      newString=self.ListToString(self,List[0:res_index])\n",
    "      \n",
    "      return newString\n",
    "\n",
    "test_data=\"dsauvewnvoiasdfeofvoirfiojaresadoijforijouforia\"\n",
    "print(Solution.removeDuplicateLetters(Solution,test_data))"
   ]
  },
  {
   "cell_type": "markdown",
   "metadata": {},
   "source": [
    "## Shortest Subarray with Sum at least k\n",
    "I just used nest while loops to loops through the array, and loops thorugh the subarray itself "
   ]
  },
  {
   "cell_type": "code",
   "execution_count": 7,
   "metadata": {},
   "outputs": [
    {
     "name": "stdout",
     "output_type": "stream",
     "text": [
      "2\n",
      "1\n",
      "-1\n",
      "3\n"
     ]
    }
   ],
   "source": [
    "from typing import List\n",
    "\n",
    "class Solution:\n",
    "    def shortestSubarray(self, nums: List[int], k: int) -> int:\n",
    "        #Initializr the current sum and minimum length\n",
    "        curr_sum= 0\n",
    "        min_len=len(nums)+1\n",
    "        \n",
    "        \n",
    "        start=0\n",
    "        end=0\n",
    "        #Loops throught the array\n",
    "        while(end<len(nums)):\n",
    "          \n",
    "          ##Keep adding the array numbers\n",
    "          #while curr_sum<=to k\n",
    "          while(curr_sum<=k and end<len(nums)):\n",
    "            curr_sum+=nums[end]\n",
    "            end+=1\n",
    "          \n",
    "          #If curr_sum >= than x\n",
    "          while(curr_sum >= k and start<len(nums)):\n",
    "            #Update the minimum length\n",
    "            if (end-start<min_len):\n",
    "              min_len=end-start\n",
    "            \n",
    "            #remove the starting elements\n",
    "            curr_sum-=nums[start]\n",
    "            start+=1\n",
    "        if(min_len==len(nums)+1):\n",
    "          return -1;\n",
    "        return min_len\n",
    "\n",
    "arr1 = [1, 4, 45, 6, 10, 19]\n",
    "x = 51\n",
    "print(Solution.shortestSubarray(Solution,arr1,x))\n",
    "arr2 = [1]\n",
    "x1 = 1\n",
    "print(Solution.shortestSubarray(Solution,arr2,x1))\n",
    "arr3 = [1,2]\n",
    "x2 = 4\n",
    "print(Solution.shortestSubarray(Solution,arr3,x2))\n",
    "arr4 = [2,-1,2]\n",
    "x3 = 3\n",
    "print(Solution.shortestSubarray(Solution,arr4,x3))"
   ]
  }
 ],
 "metadata": {
  "kernelspec": {
   "display_name": "Python 3.10.7 64-bit",
   "language": "python",
   "name": "python3"
  },
  "language_info": {
   "codemirror_mode": {
    "name": "ipython",
    "version": 3
   },
   "file_extension": ".py",
   "mimetype": "text/x-python",
   "name": "python",
   "nbconvert_exporter": "python",
   "pygments_lexer": "ipython3",
   "version": "3.10.7"
  },
  "orig_nbformat": 4,
  "vscode": {
   "interpreter": {
    "hash": "6bba7ad6fc9afbb17a33197c0438130850015aba75982ac77e342f4df6c21110"
   }
  }
 },
 "nbformat": 4,
 "nbformat_minor": 2
}
