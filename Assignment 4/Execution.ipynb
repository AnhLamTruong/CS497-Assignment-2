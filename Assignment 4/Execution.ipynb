{
 "cells": [
  {
   "cell_type": "markdown",
   "metadata": {},
   "source": [
    "## Top K Frequent Elements\n",
    "Given an integer array nums and an integer k, return the k most frequent elements. You may return the \n",
    "answer in any order. Your algorithm's time complexity must be better than O(n log n), where n is the \n",
    "array's size. "
   ]
  },
  {
   "cell_type": "code",
   "execution_count": 1,
   "metadata": {},
   "outputs": [
    {
     "name": "stdout",
     "output_type": "stream",
     "text": [
      "[1, 2, 3]\n",
      "[1, 2]\n",
      "[1]\n"
     ]
    }
   ],
   "source": [
    "from typing import List\n",
    "\n",
    "class Solution:\n",
    "    def topKFrequent(self, nums: List[int], k: int) -> List[int]:\n",
    "        number_frequency = {}\n",
    "        frequency_list ={}\n",
    "        for i in nums:\n",
    "          if i not in number_frequency:\n",
    "            number_frequency[i] = 1\n",
    "          else:\n",
    "            number_frequency[i] += 1\n",
    "        for key,value in number_frequency.items():\n",
    "          if value not in frequency_list:\n",
    "            frequency_list[value] = [key]\n",
    "          else:\n",
    "            frequency_list[value].append(key)\n",
    "        result = []\n",
    "        for i in range(len(nums),0,-1):\n",
    "         if i in frequency_list:\n",
    "            result.extend(frequency_list[i])\n",
    "         if len(result) >=k:\n",
    "            break\n",
    "        return result\n",
    "        \n",
    "print(Solution.topKFrequent(Solution,[1,1,1,1,2,2,2,3,3,3,4,4], 2))\n",
    "print(Solution.topKFrequent(Solution,[1,1,1,2,2,3], 2))\n",
    "print(Solution.topKFrequent(Solution,[1], 1))"
   ]
  },
  {
   "cell_type": "markdown",
   "metadata": {},
   "source": [
    "## Find K Closest Elements\n",
    "Given a sorted integer array arr, two integers k and x, return the k closest integers to x in the array. The result should also be sorted in ascending order. "
   ]
  },
  {
   "cell_type": "code",
   "execution_count": 3,
   "metadata": {},
   "outputs": [
    {
     "name": "stdout",
     "output_type": "stream",
     "text": [
      "[1, 2, 3, 4]\n",
      "[1, 2, 3, 4]\n",
      "[4, 7, 9, 11]\n"
     ]
    }
   ],
   "source": [
    "from typing import List\n",
    "class Solution:\n",
    "    def findClosestElements(self, arr: List[int], k: int, x: int) -> List[int]:\n",
    "        # set up the right close to the elements x that specified the\n",
    "        l, r= 0, len(arr)-k\n",
    "        while l<r:\n",
    "            m=(l+r)//2\n",
    "            #distance between elements x to the left from the mid point\n",
    "            #> distance between elements x to the right          \n",
    "            if x-arr[m]>arr[m+k]-x:\n",
    "                #move to left positions to the mid point \n",
    "                l=m+1\n",
    "            else:\n",
    "                #move to the right positions to the mid point\n",
    "                r = m\n",
    "        return arr[l:l+k]\n",
    "    \n",
    "#Driver code\n",
    "arr1 =[1,2,3,4,5] \n",
    "k1=4 \n",
    "x1=3\n",
    "\n",
    "arr2=[1,2,3,4,5]\n",
    "k2=4\n",
    "x2=-1\n",
    "\n",
    "arr3=[1,2,4,7,9,11,15,234]\n",
    "k3=4\n",
    "x3=8\n",
    "\n",
    "print(Solution.findClosestElements(Solution, arr1, k1, x1))\n",
    "print(Solution.findClosestElements(Solution, arr2, k2, x2))\n",
    "print(Solution.findClosestElements(Solution, arr3, k3, x3))\n",
    "\n",
    "\n"
   ]
  },
  {
   "cell_type": "markdown",
   "metadata": {},
   "source": [
    "## Shortest Subarray with Sum at least K \n",
    "Given an integer array nums and an integer k, return the length of the shortest non-empty subarray of nums with a sum of at least k. If there is no such subarray, return -1."
   ]
  },
  {
   "cell_type": "code",
   "execution_count": 5,
   "metadata": {},
   "outputs": [
    {
     "name": "stdout",
     "output_type": "stream",
     "text": [
      "3\n",
      "1\n",
      "-1\n"
     ]
    }
   ],
   "source": [
    "from typing import List\n",
    "from collections import deque\n",
    "\n",
    "class Solution:\n",
    "    def shortestSubarray(self, nums: List[int], k: int) -> int:\n",
    "        n, ans = len(nums), float('inf')\n",
    "        nums.append(0)\n",
    "        s = deque([-1])\n",
    "        for i in range(n):\n",
    "            nums[i] += nums[i-1]\n",
    "            while s and ans + s[0] <= i: \n",
    "              s.popleft()\n",
    "            while s and nums[s[0]] + k <= nums[i]: \n",
    "              ans = i - s.popleft()\n",
    "            while s and nums[s[-1]] >= nums[i]: \n",
    "              s.pop()\n",
    "            s.append(i)\n",
    "        return ans if ans != float('inf') else -1\n",
    "\n",
    "nums1=[2,-1,2]\n",
    "k1=3\n",
    "nums2=[1,-1,2,4,5,6,3,31,13,4]\n",
    "k2=17\n",
    "nums3=[1,2]\n",
    "k3=4\n",
    "\n",
    "print(Solution.shortestSubarray(Solution,nums1,k1))\n",
    "print(Solution.shortestSubarray(Solution,nums2,k2))\n",
    "print(Solution.shortestSubarray(Solution,nums3,k3))"
   ]
  },
  {
   "cell_type": "markdown",
   "metadata": {},
   "source": [
    "## Kth Smallest Prime Fraction \n",
    "You are given a sorted integer array arr containing 1 and prime numbers, where all the integers of arr are \n",
    "unique. You are also given an integer k. \n",
    "For every i and j where 0 <= i < j < arr.length, we consider the fraction arr[i] / arr[j]. \n",
    "Return the kth smallest fraction considered. Return your answer as an array of integers of size 2, where \n",
    "answer[0] == arr[i] and answer[1] == arr[j]. "
   ]
  },
  {
   "cell_type": "code",
   "execution_count": 12,
   "metadata": {},
   "outputs": [
    {
     "ename": "KeyboardInterrupt",
     "evalue": "",
     "output_type": "error",
     "traceback": [
      "\u001b[1;31m---------------------------------------------------------------------------\u001b[0m",
      "\u001b[1;31mKeyboardInterrupt\u001b[0m                         Traceback (most recent call last)",
      "\u001b[1;32md:\\Fall2022\\CS497\\Assignment 4\\Execution.ipynb Cell 8\u001b[0m in \u001b[0;36m<cell line: 32>\u001b[1;34m()\u001b[0m\n\u001b[0;32m     <a href='vscode-notebook-cell:/d%3A/Fall2022/CS497/Assignment%204/Execution.ipynb#X11sZmlsZQ%3D%3D?line=29'>30</a>\u001b[0m             l\u001b[39m=\u001b[39mm\n\u001b[0;32m     <a href='vscode-notebook-cell:/d%3A/Fall2022/CS497/Assignment%204/Execution.ipynb#X11sZmlsZQ%3D%3D?line=30'>31</a>\u001b[0m         \u001b[39mreturn\u001b[39;00m curr\n\u001b[1;32m---> <a href='vscode-notebook-cell:/d%3A/Fall2022/CS497/Assignment%204/Execution.ipynb#X11sZmlsZQ%3D%3D?line=31'>32</a>\u001b[0m \u001b[39mprint\u001b[39m(Solution\u001b[39m.\u001b[39;49mkthSmallestPrimeFraction(Solution,[\u001b[39m1\u001b[39;49m,\u001b[39m2\u001b[39;49m,\u001b[39m3\u001b[39;49m,\u001b[39m5\u001b[39;49m],k\u001b[39m=\u001b[39;49m\u001b[39m3\u001b[39;49m))\n\u001b[0;32m     <a href='vscode-notebook-cell:/d%3A/Fall2022/CS497/Assignment%204/Execution.ipynb#X11sZmlsZQ%3D%3D?line=32'>33</a>\u001b[0m \u001b[39mprint\u001b[39m(Solution\u001b[39m.\u001b[39mkthSmallestPrimeFraction(Solution,[\u001b[39m1\u001b[39m,\u001b[39m7\u001b[39m],k\u001b[39m=\u001b[39m\u001b[39m1\u001b[39m))\n",
      "\u001b[1;32md:\\Fall2022\\CS497\\Assignment 4\\Execution.ipynb Cell 8\u001b[0m in \u001b[0;36mSolution.kthSmallestPrimeFraction\u001b[1;34m(self, arr, k)\u001b[0m\n\u001b[0;32m     <a href='vscode-notebook-cell:/d%3A/Fall2022/CS497/Assignment%204/Execution.ipynb#X11sZmlsZQ%3D%3D?line=15'>16</a>\u001b[0m \u001b[39mwhile\u001b[39;00m j\u001b[39m<\u001b[39mn \u001b[39mand\u001b[39;00m arr[i]\u001b[39m/\u001b[39marr[j]\u001b[39m>\u001b[39mm:\n\u001b[0;32m     <a href='vscode-notebook-cell:/d%3A/Fall2022/CS497/Assignment%204/Execution.ipynb#X11sZmlsZQ%3D%3D?line=16'>17</a>\u001b[0m   j\u001b[39m+\u001b[39m\u001b[39m=\u001b[39m\u001b[39m1\u001b[39m\n\u001b[1;32m---> <a href='vscode-notebook-cell:/d%3A/Fall2022/CS497/Assignment%204/Execution.ipynb#X11sZmlsZQ%3D%3D?line=17'>18</a>\u001b[0m \u001b[39mif\u001b[39;00m j\u001b[39m==\u001b[39;49mn:\n\u001b[0;32m     <a href='vscode-notebook-cell:/d%3A/Fall2022/CS497/Assignment%204/Execution.ipynb#X11sZmlsZQ%3D%3D?line=18'>19</a>\u001b[0m   \u001b[39mbreak\u001b[39;00m\n\u001b[0;32m     <a href='vscode-notebook-cell:/d%3A/Fall2022/CS497/Assignment%204/Execution.ipynb#X11sZmlsZQ%3D%3D?line=19'>20</a>\u001b[0m total\u001b[39m+\u001b[39m\u001b[39m=\u001b[39mn\u001b[39m-\u001b[39mj\n",
      "\u001b[1;31mKeyboardInterrupt\u001b[0m: "
     ]
    }
   ],
   "source": [
    "from typing import List\n",
    "\n",
    "class Solution:\n",
    "    def kthSmallestPrimeFraction(self, arr: List[int], k: int) -> List[int]:\n",
    "        n= len(arr)\n",
    "        l=0\n",
    "        r=1\n",
    "        curr=[]\n",
    "        while l<r:\n",
    "          m=l+(l+r)/2\n",
    "          maxF=0\n",
    "          total=0\n",
    "          q,p=0,0\n",
    "          j=1\n",
    "          for i in range(n-1):\n",
    "            while j<n and arr[i]/arr[j]>m:\n",
    "              j+=1\n",
    "            if j==n:\n",
    "              break\n",
    "            total+=n-j\n",
    "            if((arr[i]/arr[j])>maxF):\n",
    "              p=arr[i]\n",
    "              q=arr[j]\n",
    "              maxF=p/q\n",
    "          if(total == k):\n",
    "            return curr[arr[p],arr[j]]\n",
    "          elif(total>k):\n",
    "            r=m\n",
    "          else:\n",
    "            l=m\n",
    "        return curr\n",
    "print(Solution.kthSmallestPrimeFraction(Solution,[1,2,3,5],k=3))\n",
    "print(Solution.kthSmallestPrimeFraction(Solution,[1,7],k=1))"
   ]
  }
 ],
 "metadata": {
  "kernelspec": {
   "display_name": "Python 3.10.7 64-bit (microsoft store)",
   "language": "python",
   "name": "python3"
  },
  "language_info": {
   "codemirror_mode": {
    "name": "ipython",
    "version": 3
   },
   "file_extension": ".py",
   "mimetype": "text/x-python",
   "name": "python",
   "nbconvert_exporter": "python",
   "pygments_lexer": "ipython3",
   "version": "3.10.7"
  },
  "orig_nbformat": 4,
  "vscode": {
   "interpreter": {
    "hash": "3202906422048efeae18cfb62b6d32fad0994e44a905028d0d9bbbff55d5927b"
   }
  }
 },
 "nbformat": 4,
 "nbformat_minor": 2
}
